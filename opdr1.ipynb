{
 "cells": [
  {
   "cell_type": "code",
   "execution_count": null,
   "metadata": {},
   "outputs": [],
   "source": [
    "import numpy as np\n",
    "import matplotlib.pyplot as plt\n",
    "from matplotlib.colors import LinearSegmentedColormap\n",
    "\n",
    "# set graph size and axes\n",
    "width, height = 500, 500\n",
    "x_min, x_max = -1.8, 0.5 \n",
    "y_min, y_max = -1.25, 1.25\n",
    "\n",
    "# custom coloring \n",
    "colors = [(0.5, 0, 0), (1, 0, 0),(1, 1, 0),(0, 0, 0)]     \n",
    "name = \"nicemap\"\n",
    "cmap = LinearSegmentedColormap.from_list(name, colors)\n",
    "\n",
    "# max iterations we test for to let it escape, increase for more detail\n",
    "max_iterations = 100\n",
    "\n",
    "# empty set to store iteration counts\n",
    "mandelbrot_set = np.zeros((height, width))\n",
    "\n",
    "# Iterate over each pixel in the image\n",
    "for i in range(width):\n",
    "    for pixel in range(height):\n",
    "        # position to complex number. complex(computes real part, computes imaginary part) \n",
    "        c = complex(x_min + (i / width) * (x_max - x_min),\n",
    "                    y_min + (pixel / height) * (y_max - y_min))\n",
    "        # set z at time 0 = 0 \n",
    "        z = 0 \n",
    "        # keep count of iterations\n",
    "        iteration = 0\n",
    "        \n",
    "        # mandelbrot where we set a threshold that is equal to 2 and apply formula\n",
    "        while abs(z) <= 2 and iteration < max_iterations:\n",
    "            z = z**2 + c \n",
    "            iteration += 1\n",
    "            \n",
    "        # store iterations\n",
    "        mandelbrot_set[pixel, i] = iteration\n",
    "\n",
    "# plot\n",
    "plt.imshow(mandelbrot_set, cmap, extent=(x_min, x_max, y_min, y_max))\n",
    "plt.colorbar(label=\"iterations\")\n",
    "plt.xlabel(\"Real part c\")\n",
    "plt.ylabel(\"Imaginary part c\")\n",
    "plt.show()"
   ]
  }
 ],
 "metadata": {
  "kernelspec": {
   "display_name": "Python 3",
   "language": "python",
   "name": "python3"
  },
  "language_info": {
   "name": "python",
   "version": "3.11.9"
  }
 },
 "nbformat": 4,
 "nbformat_minor": 2
}
